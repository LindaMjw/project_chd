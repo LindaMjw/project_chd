{
  "nbformat": 4,
  "nbformat_minor": 0,
  "metadata": {
    "colab": {
      "provenance": [],
      "include_colab_link": true
    },
    "kernelspec": {
      "name": "python3",
      "display_name": "Python 3"
    },
    "language_info": {
      "name": "python"
    }
  },
  "cells": [
    {
      "cell_type": "markdown",
      "metadata": {
        "id": "view-in-github",
        "colab_type": "text"
      },
      "source": [
        "<a href=\"https://colab.research.google.com/github/LindaMjw/project_chd/blob/main/Training.ipynb\" target=\"_parent\"><img src=\"https://colab.research.google.com/assets/colab-badge.svg\" alt=\"Open In Colab\"/></a>"
      ]
    },
    {
      "cell_type": "code",
      "source": [
        "! git clone https://github.com/LindaMjw/project_chd"
      ],
      "metadata": {
        "colab": {
          "base_uri": "https://localhost:8080/"
        },
        "id": "qy7zQ28M9eBc",
        "outputId": "ecc44ed8-c8e9-41c3-e428-8407e2a10065"
      },
      "execution_count": 301,
      "outputs": [
        {
          "output_type": "stream",
          "name": "stdout",
          "text": [
            "fatal: destination path 'project_chd' already exists and is not an empty directory.\n"
          ]
        }
      ]
    },
    {
      "cell_type": "code",
      "source": [
        "import pandas as pd\n",
        "import numpy as np\n",
        "import seaborn as sns\n",
        "import matplotlib.pyplot as plt\n",
        "\n",
        "# Load the data\n",
        "df = pd.read_csv('/content/project_chd/fhs_train.csv')  # Replace 'your_data.csv' with your dataset filename\n",
        "\n",
        "# Handling missing values\n",
        "# Identify variables with missing values\n",
        "missing_values = df.isnull().sum()\n",
        "print(\"Missing Values:\")\n",
        "print(missing_values)"
      ],
      "metadata": {
        "colab": {
          "base_uri": "https://localhost:8080/"
        },
        "id": "aaRQk24nVOpf",
        "outputId": "66214ffb-a8fc-46d4-c283-55a412ed13e4"
      },
      "execution_count": 302,
      "outputs": [
        {
          "output_type": "stream",
          "name": "stdout",
          "text": [
            "Missing Values:\n",
            "Unnamed: 0           0\n",
            "sex                  0\n",
            "age                  0\n",
            "education           85\n",
            "currentSmoker        0\n",
            "cigsPerDay          24\n",
            "BPMeds              37\n",
            "prevalentStroke      0\n",
            "prevalentHyp         0\n",
            "diabetes             0\n",
            "totChol             39\n",
            "sysBP                0\n",
            "diaBP                0\n",
            "BMI                 15\n",
            "heartRate            0\n",
            "glucose            285\n",
            "TenYearCHD           0\n",
            "dtype: int64\n"
          ]
        }
      ]
    },
    {
      "cell_type": "markdown",
      "source": [
        "'Education' is categorical variable which is hard to choose one default value to replace Nan. And the whole dataset contains 3180 observations. Having 85 missing values only occupied 2.67% of the whole dataset, so we decide to clean those Nans."
      ],
      "metadata": {
        "id": "IbSD0_j9-4z0"
      }
    },
    {
      "cell_type": "code",
      "execution_count": 303,
      "metadata": {
        "colab": {
          "base_uri": "https://localhost:8080/",
          "height": 320
        },
        "id": "r5lemKEXT4Jd",
        "outputId": "3eebfb1b-e2b4-419d-a7b1-3d6bf350d36b"
      },
      "outputs": [
        {
          "output_type": "execute_result",
          "data": {
            "text/plain": [
              "        Unnamed: 0          sex          age    education  currentSmoker  \\\n",
              "count  3180.000000  3180.000000  3180.000000  3095.000000    3180.000000   \n",
              "mean   2129.740881     0.433019    49.633962     1.957027       0.490881   \n",
              "std    1231.779357     0.495571     8.557596     1.011135       0.499995   \n",
              "min       1.000000     0.000000    32.000000     1.000000       0.000000   \n",
              "25%    1062.750000     0.000000    42.000000     1.000000       0.000000   \n",
              "50%    2137.500000     0.000000    49.000000     2.000000       0.000000   \n",
              "75%    3209.250000     1.000000    56.000000     3.000000       1.000000   \n",
              "max    4240.000000     1.000000    70.000000     4.000000       1.000000   \n",
              "\n",
              "        cigsPerDay       BPMeds  prevalentStroke  prevalentHyp     diabetes  \\\n",
              "count  3156.000000  3143.000000      3180.000000   3180.000000  3180.000000   \n",
              "mean      8.970532     0.029590         0.006604      0.321069     0.026101   \n",
              "std      12.013704     0.169479         0.081008      0.466961     0.159460   \n",
              "min       0.000000     0.000000         0.000000      0.000000     0.000000   \n",
              "25%       0.000000     0.000000         0.000000      0.000000     0.000000   \n",
              "50%       0.000000     0.000000         0.000000      0.000000     0.000000   \n",
              "75%      20.000000     0.000000         0.000000      1.000000     0.000000   \n",
              "max      70.000000     1.000000         1.000000      1.000000     1.000000   \n",
              "\n",
              "           totChol        sysBP        diaBP          BMI    heartRate  \\\n",
              "count  3141.000000  3180.000000  3180.000000  3165.000000  3180.000000   \n",
              "mean    236.600764   132.784748    83.117767    25.888117    75.942138   \n",
              "std      44.847411    22.433267    12.009212     4.130475    12.050504   \n",
              "min     107.000000    83.500000    50.000000    15.540000    44.000000   \n",
              "25%     205.000000   117.000000    75.000000    23.100000    68.000000   \n",
              "50%     233.000000   129.000000    82.000000    25.490000    75.000000   \n",
              "75%     262.000000   144.125000    90.000000    28.140000    83.000000   \n",
              "max     696.000000   295.000000   142.500000    56.800000   140.000000   \n",
              "\n",
              "           glucose   TenYearCHD  \n",
              "count  2895.000000  3180.000000  \n",
              "mean     81.833506     0.153145  \n",
              "std      23.625357     0.360184  \n",
              "min      40.000000     0.000000  \n",
              "25%      71.000000     0.000000  \n",
              "50%      78.000000     0.000000  \n",
              "75%      87.000000     0.000000  \n",
              "max     394.000000     1.000000  "
            ],
            "text/html": [
              "\n",
              "  <div id=\"df-829eebfa-96f0-4c38-b075-d562f75f7e5c\" class=\"colab-df-container\">\n",
              "    <div>\n",
              "<style scoped>\n",
              "    .dataframe tbody tr th:only-of-type {\n",
              "        vertical-align: middle;\n",
              "    }\n",
              "\n",
              "    .dataframe tbody tr th {\n",
              "        vertical-align: top;\n",
              "    }\n",
              "\n",
              "    .dataframe thead th {\n",
              "        text-align: right;\n",
              "    }\n",
              "</style>\n",
              "<table border=\"1\" class=\"dataframe\">\n",
              "  <thead>\n",
              "    <tr style=\"text-align: right;\">\n",
              "      <th></th>\n",
              "      <th>Unnamed: 0</th>\n",
              "      <th>sex</th>\n",
              "      <th>age</th>\n",
              "      <th>education</th>\n",
              "      <th>currentSmoker</th>\n",
              "      <th>cigsPerDay</th>\n",
              "      <th>BPMeds</th>\n",
              "      <th>prevalentStroke</th>\n",
              "      <th>prevalentHyp</th>\n",
              "      <th>diabetes</th>\n",
              "      <th>totChol</th>\n",
              "      <th>sysBP</th>\n",
              "      <th>diaBP</th>\n",
              "      <th>BMI</th>\n",
              "      <th>heartRate</th>\n",
              "      <th>glucose</th>\n",
              "      <th>TenYearCHD</th>\n",
              "    </tr>\n",
              "  </thead>\n",
              "  <tbody>\n",
              "    <tr>\n",
              "      <th>count</th>\n",
              "      <td>3180.000000</td>\n",
              "      <td>3180.000000</td>\n",
              "      <td>3180.000000</td>\n",
              "      <td>3095.000000</td>\n",
              "      <td>3180.000000</td>\n",
              "      <td>3156.000000</td>\n",
              "      <td>3143.000000</td>\n",
              "      <td>3180.000000</td>\n",
              "      <td>3180.000000</td>\n",
              "      <td>3180.000000</td>\n",
              "      <td>3141.000000</td>\n",
              "      <td>3180.000000</td>\n",
              "      <td>3180.000000</td>\n",
              "      <td>3165.000000</td>\n",
              "      <td>3180.000000</td>\n",
              "      <td>2895.000000</td>\n",
              "      <td>3180.000000</td>\n",
              "    </tr>\n",
              "    <tr>\n",
              "      <th>mean</th>\n",
              "      <td>2129.740881</td>\n",
              "      <td>0.433019</td>\n",
              "      <td>49.633962</td>\n",
              "      <td>1.957027</td>\n",
              "      <td>0.490881</td>\n",
              "      <td>8.970532</td>\n",
              "      <td>0.029590</td>\n",
              "      <td>0.006604</td>\n",
              "      <td>0.321069</td>\n",
              "      <td>0.026101</td>\n",
              "      <td>236.600764</td>\n",
              "      <td>132.784748</td>\n",
              "      <td>83.117767</td>\n",
              "      <td>25.888117</td>\n",
              "      <td>75.942138</td>\n",
              "      <td>81.833506</td>\n",
              "      <td>0.153145</td>\n",
              "    </tr>\n",
              "    <tr>\n",
              "      <th>std</th>\n",
              "      <td>1231.779357</td>\n",
              "      <td>0.495571</td>\n",
              "      <td>8.557596</td>\n",
              "      <td>1.011135</td>\n",
              "      <td>0.499995</td>\n",
              "      <td>12.013704</td>\n",
              "      <td>0.169479</td>\n",
              "      <td>0.081008</td>\n",
              "      <td>0.466961</td>\n",
              "      <td>0.159460</td>\n",
              "      <td>44.847411</td>\n",
              "      <td>22.433267</td>\n",
              "      <td>12.009212</td>\n",
              "      <td>4.130475</td>\n",
              "      <td>12.050504</td>\n",
              "      <td>23.625357</td>\n",
              "      <td>0.360184</td>\n",
              "    </tr>\n",
              "    <tr>\n",
              "      <th>min</th>\n",
              "      <td>1.000000</td>\n",
              "      <td>0.000000</td>\n",
              "      <td>32.000000</td>\n",
              "      <td>1.000000</td>\n",
              "      <td>0.000000</td>\n",
              "      <td>0.000000</td>\n",
              "      <td>0.000000</td>\n",
              "      <td>0.000000</td>\n",
              "      <td>0.000000</td>\n",
              "      <td>0.000000</td>\n",
              "      <td>107.000000</td>\n",
              "      <td>83.500000</td>\n",
              "      <td>50.000000</td>\n",
              "      <td>15.540000</td>\n",
              "      <td>44.000000</td>\n",
              "      <td>40.000000</td>\n",
              "      <td>0.000000</td>\n",
              "    </tr>\n",
              "    <tr>\n",
              "      <th>25%</th>\n",
              "      <td>1062.750000</td>\n",
              "      <td>0.000000</td>\n",
              "      <td>42.000000</td>\n",
              "      <td>1.000000</td>\n",
              "      <td>0.000000</td>\n",
              "      <td>0.000000</td>\n",
              "      <td>0.000000</td>\n",
              "      <td>0.000000</td>\n",
              "      <td>0.000000</td>\n",
              "      <td>0.000000</td>\n",
              "      <td>205.000000</td>\n",
              "      <td>117.000000</td>\n",
              "      <td>75.000000</td>\n",
              "      <td>23.100000</td>\n",
              "      <td>68.000000</td>\n",
              "      <td>71.000000</td>\n",
              "      <td>0.000000</td>\n",
              "    </tr>\n",
              "    <tr>\n",
              "      <th>50%</th>\n",
              "      <td>2137.500000</td>\n",
              "      <td>0.000000</td>\n",
              "      <td>49.000000</td>\n",
              "      <td>2.000000</td>\n",
              "      <td>0.000000</td>\n",
              "      <td>0.000000</td>\n",
              "      <td>0.000000</td>\n",
              "      <td>0.000000</td>\n",
              "      <td>0.000000</td>\n",
              "      <td>0.000000</td>\n",
              "      <td>233.000000</td>\n",
              "      <td>129.000000</td>\n",
              "      <td>82.000000</td>\n",
              "      <td>25.490000</td>\n",
              "      <td>75.000000</td>\n",
              "      <td>78.000000</td>\n",
              "      <td>0.000000</td>\n",
              "    </tr>\n",
              "    <tr>\n",
              "      <th>75%</th>\n",
              "      <td>3209.250000</td>\n",
              "      <td>1.000000</td>\n",
              "      <td>56.000000</td>\n",
              "      <td>3.000000</td>\n",
              "      <td>1.000000</td>\n",
              "      <td>20.000000</td>\n",
              "      <td>0.000000</td>\n",
              "      <td>0.000000</td>\n",
              "      <td>1.000000</td>\n",
              "      <td>0.000000</td>\n",
              "      <td>262.000000</td>\n",
              "      <td>144.125000</td>\n",
              "      <td>90.000000</td>\n",
              "      <td>28.140000</td>\n",
              "      <td>83.000000</td>\n",
              "      <td>87.000000</td>\n",
              "      <td>0.000000</td>\n",
              "    </tr>\n",
              "    <tr>\n",
              "      <th>max</th>\n",
              "      <td>4240.000000</td>\n",
              "      <td>1.000000</td>\n",
              "      <td>70.000000</td>\n",
              "      <td>4.000000</td>\n",
              "      <td>1.000000</td>\n",
              "      <td>70.000000</td>\n",
              "      <td>1.000000</td>\n",
              "      <td>1.000000</td>\n",
              "      <td>1.000000</td>\n",
              "      <td>1.000000</td>\n",
              "      <td>696.000000</td>\n",
              "      <td>295.000000</td>\n",
              "      <td>142.500000</td>\n",
              "      <td>56.800000</td>\n",
              "      <td>140.000000</td>\n",
              "      <td>394.000000</td>\n",
              "      <td>1.000000</td>\n",
              "    </tr>\n",
              "  </tbody>\n",
              "</table>\n",
              "</div>\n",
              "    <div class=\"colab-df-buttons\">\n",
              "\n",
              "  <div class=\"colab-df-container\">\n",
              "    <button class=\"colab-df-convert\" onclick=\"convertToInteractive('df-829eebfa-96f0-4c38-b075-d562f75f7e5c')\"\n",
              "            title=\"Convert this dataframe to an interactive table.\"\n",
              "            style=\"display:none;\">\n",
              "\n",
              "  <svg xmlns=\"http://www.w3.org/2000/svg\" height=\"24px\" viewBox=\"0 -960 960 960\">\n",
              "    <path d=\"M120-120v-720h720v720H120Zm60-500h600v-160H180v160Zm220 220h160v-160H400v160Zm0 220h160v-160H400v160ZM180-400h160v-160H180v160Zm440 0h160v-160H620v160ZM180-180h160v-160H180v160Zm440 0h160v-160H620v160Z\"/>\n",
              "  </svg>\n",
              "    </button>\n",
              "\n",
              "  <style>\n",
              "    .colab-df-container {\n",
              "      display:flex;\n",
              "      gap: 12px;\n",
              "    }\n",
              "\n",
              "    .colab-df-convert {\n",
              "      background-color: #E8F0FE;\n",
              "      border: none;\n",
              "      border-radius: 50%;\n",
              "      cursor: pointer;\n",
              "      display: none;\n",
              "      fill: #1967D2;\n",
              "      height: 32px;\n",
              "      padding: 0 0 0 0;\n",
              "      width: 32px;\n",
              "    }\n",
              "\n",
              "    .colab-df-convert:hover {\n",
              "      background-color: #E2EBFA;\n",
              "      box-shadow: 0px 1px 2px rgba(60, 64, 67, 0.3), 0px 1px 3px 1px rgba(60, 64, 67, 0.15);\n",
              "      fill: #174EA6;\n",
              "    }\n",
              "\n",
              "    .colab-df-buttons div {\n",
              "      margin-bottom: 4px;\n",
              "    }\n",
              "\n",
              "    [theme=dark] .colab-df-convert {\n",
              "      background-color: #3B4455;\n",
              "      fill: #D2E3FC;\n",
              "    }\n",
              "\n",
              "    [theme=dark] .colab-df-convert:hover {\n",
              "      background-color: #434B5C;\n",
              "      box-shadow: 0px 1px 3px 1px rgba(0, 0, 0, 0.15);\n",
              "      filter: drop-shadow(0px 1px 2px rgba(0, 0, 0, 0.3));\n",
              "      fill: #FFFFFF;\n",
              "    }\n",
              "  </style>\n",
              "\n",
              "    <script>\n",
              "      const buttonEl =\n",
              "        document.querySelector('#df-829eebfa-96f0-4c38-b075-d562f75f7e5c button.colab-df-convert');\n",
              "      buttonEl.style.display =\n",
              "        google.colab.kernel.accessAllowed ? 'block' : 'none';\n",
              "\n",
              "      async function convertToInteractive(key) {\n",
              "        const element = document.querySelector('#df-829eebfa-96f0-4c38-b075-d562f75f7e5c');\n",
              "        const dataTable =\n",
              "          await google.colab.kernel.invokeFunction('convertToInteractive',\n",
              "                                                    [key], {});\n",
              "        if (!dataTable) return;\n",
              "\n",
              "        const docLinkHtml = 'Like what you see? Visit the ' +\n",
              "          '<a target=\"_blank\" href=https://colab.research.google.com/notebooks/data_table.ipynb>data table notebook</a>'\n",
              "          + ' to learn more about interactive tables.';\n",
              "        element.innerHTML = '';\n",
              "        dataTable['output_type'] = 'display_data';\n",
              "        await google.colab.output.renderOutput(dataTable, element);\n",
              "        const docLink = document.createElement('div');\n",
              "        docLink.innerHTML = docLinkHtml;\n",
              "        element.appendChild(docLink);\n",
              "      }\n",
              "    </script>\n",
              "  </div>\n",
              "\n",
              "\n",
              "<div id=\"df-fbeecf9b-b607-4c3c-a847-2bf8a2bea32c\">\n",
              "  <button class=\"colab-df-quickchart\" onclick=\"quickchart('df-fbeecf9b-b607-4c3c-a847-2bf8a2bea32c')\"\n",
              "            title=\"Suggest charts\"\n",
              "            style=\"display:none;\">\n",
              "\n",
              "<svg xmlns=\"http://www.w3.org/2000/svg\" height=\"24px\"viewBox=\"0 0 24 24\"\n",
              "     width=\"24px\">\n",
              "    <g>\n",
              "        <path d=\"M19 3H5c-1.1 0-2 .9-2 2v14c0 1.1.9 2 2 2h14c1.1 0 2-.9 2-2V5c0-1.1-.9-2-2-2zM9 17H7v-7h2v7zm4 0h-2V7h2v10zm4 0h-2v-4h2v4z\"/>\n",
              "    </g>\n",
              "</svg>\n",
              "  </button>\n",
              "\n",
              "<style>\n",
              "  .colab-df-quickchart {\n",
              "      --bg-color: #E8F0FE;\n",
              "      --fill-color: #1967D2;\n",
              "      --hover-bg-color: #E2EBFA;\n",
              "      --hover-fill-color: #174EA6;\n",
              "      --disabled-fill-color: #AAA;\n",
              "      --disabled-bg-color: #DDD;\n",
              "  }\n",
              "\n",
              "  [theme=dark] .colab-df-quickchart {\n",
              "      --bg-color: #3B4455;\n",
              "      --fill-color: #D2E3FC;\n",
              "      --hover-bg-color: #434B5C;\n",
              "      --hover-fill-color: #FFFFFF;\n",
              "      --disabled-bg-color: #3B4455;\n",
              "      --disabled-fill-color: #666;\n",
              "  }\n",
              "\n",
              "  .colab-df-quickchart {\n",
              "    background-color: var(--bg-color);\n",
              "    border: none;\n",
              "    border-radius: 50%;\n",
              "    cursor: pointer;\n",
              "    display: none;\n",
              "    fill: var(--fill-color);\n",
              "    height: 32px;\n",
              "    padding: 0;\n",
              "    width: 32px;\n",
              "  }\n",
              "\n",
              "  .colab-df-quickchart:hover {\n",
              "    background-color: var(--hover-bg-color);\n",
              "    box-shadow: 0 1px 2px rgba(60, 64, 67, 0.3), 0 1px 3px 1px rgba(60, 64, 67, 0.15);\n",
              "    fill: var(--button-hover-fill-color);\n",
              "  }\n",
              "\n",
              "  .colab-df-quickchart-complete:disabled,\n",
              "  .colab-df-quickchart-complete:disabled:hover {\n",
              "    background-color: var(--disabled-bg-color);\n",
              "    fill: var(--disabled-fill-color);\n",
              "    box-shadow: none;\n",
              "  }\n",
              "\n",
              "  .colab-df-spinner {\n",
              "    border: 2px solid var(--fill-color);\n",
              "    border-color: transparent;\n",
              "    border-bottom-color: var(--fill-color);\n",
              "    animation:\n",
              "      spin 1s steps(1) infinite;\n",
              "  }\n",
              "\n",
              "  @keyframes spin {\n",
              "    0% {\n",
              "      border-color: transparent;\n",
              "      border-bottom-color: var(--fill-color);\n",
              "      border-left-color: var(--fill-color);\n",
              "    }\n",
              "    20% {\n",
              "      border-color: transparent;\n",
              "      border-left-color: var(--fill-color);\n",
              "      border-top-color: var(--fill-color);\n",
              "    }\n",
              "    30% {\n",
              "      border-color: transparent;\n",
              "      border-left-color: var(--fill-color);\n",
              "      border-top-color: var(--fill-color);\n",
              "      border-right-color: var(--fill-color);\n",
              "    }\n",
              "    40% {\n",
              "      border-color: transparent;\n",
              "      border-right-color: var(--fill-color);\n",
              "      border-top-color: var(--fill-color);\n",
              "    }\n",
              "    60% {\n",
              "      border-color: transparent;\n",
              "      border-right-color: var(--fill-color);\n",
              "    }\n",
              "    80% {\n",
              "      border-color: transparent;\n",
              "      border-right-color: var(--fill-color);\n",
              "      border-bottom-color: var(--fill-color);\n",
              "    }\n",
              "    90% {\n",
              "      border-color: transparent;\n",
              "      border-bottom-color: var(--fill-color);\n",
              "    }\n",
              "  }\n",
              "</style>\n",
              "\n",
              "  <script>\n",
              "    async function quickchart(key) {\n",
              "      const quickchartButtonEl =\n",
              "        document.querySelector('#' + key + ' button');\n",
              "      quickchartButtonEl.disabled = true;  // To prevent multiple clicks.\n",
              "      quickchartButtonEl.classList.add('colab-df-spinner');\n",
              "      try {\n",
              "        const charts = await google.colab.kernel.invokeFunction(\n",
              "            'suggestCharts', [key], {});\n",
              "      } catch (error) {\n",
              "        console.error('Error during call to suggestCharts:', error);\n",
              "      }\n",
              "      quickchartButtonEl.classList.remove('colab-df-spinner');\n",
              "      quickchartButtonEl.classList.add('colab-df-quickchart-complete');\n",
              "    }\n",
              "    (() => {\n",
              "      let quickchartButtonEl =\n",
              "        document.querySelector('#df-fbeecf9b-b607-4c3c-a847-2bf8a2bea32c button');\n",
              "      quickchartButtonEl.style.display =\n",
              "        google.colab.kernel.accessAllowed ? 'block' : 'none';\n",
              "    })();\n",
              "  </script>\n",
              "</div>\n",
              "    </div>\n",
              "  </div>\n"
            ],
            "application/vnd.google.colaboratory.intrinsic+json": {
              "type": "dataframe",
              "summary": "{\n  \"name\": \"df\",\n  \"rows\": 8,\n  \"fields\": [\n    {\n      \"column\": \"Unnamed: 0\",\n      \"properties\": {\n        \"dtype\": \"number\",\n        \"std\": 1372.9536459427168,\n        \"min\": 1.0,\n        \"max\": 4240.0,\n        \"num_unique_values\": 8,\n        \"samples\": [\n          2129.7408805031446,\n          2137.5,\n          3180.0\n        ],\n        \"semantic_type\": \"\",\n        \"description\": \"\"\n      }\n    },\n    {\n      \"column\": \"sex\",\n      \"properties\": {\n        \"dtype\": \"number\",\n        \"std\": 1124.1519427015387,\n        \"min\": 0.0,\n        \"max\": 3180.0,\n        \"num_unique_values\": 5,\n        \"samples\": [\n          0.4330188679245283,\n          1.0,\n          0.49557114296932275\n        ],\n        \"semantic_type\": \"\",\n        \"description\": \"\"\n      }\n    },\n    {\n      \"column\": \"age\",\n      \"properties\": {\n        \"dtype\": \"number\",\n        \"std\": 1108.9311870018048,\n        \"min\": 8.557595554363257,\n        \"max\": 3180.0,\n        \"num_unique_values\": 8,\n        \"samples\": [\n          49.633962264150945,\n          49.0,\n          3180.0\n        ],\n        \"semantic_type\": \"\",\n        \"description\": \"\"\n      }\n    },\n    {\n      \"column\": \"education\",\n      \"properties\": {\n        \"dtype\": \"number\",\n        \"std\": 1093.5427663751352,\n        \"min\": 1.0,\n        \"max\": 3095.0,\n        \"num_unique_values\": 7,\n        \"samples\": [\n          3095.0,\n          1.95702746365105,\n          3.0\n        ],\n        \"semantic_type\": \"\",\n        \"description\": \"\"\n      }\n    },\n    {\n      \"column\": \"currentSmoker\",\n      \"properties\": {\n        \"dtype\": \"number\",\n        \"std\": 1124.1487971164959,\n        \"min\": 0.0,\n        \"max\": 3180.0,\n        \"num_unique_values\": 5,\n        \"samples\": [\n          0.4908805031446541,\n          1.0,\n          0.4999954496776886\n        ],\n        \"semantic_type\": \"\",\n        \"description\": \"\"\n      }\n    },\n    {\n      \"column\": \"cigsPerDay\",\n      \"properties\": {\n        \"dtype\": \"number\",\n        \"std\": 1110.451166321132,\n        \"min\": 0.0,\n        \"max\": 3156.0,\n        \"num_unique_values\": 6,\n        \"samples\": [\n          3156.0,\n          8.970532319391635,\n          70.0\n        ],\n        \"semantic_type\": \"\",\n        \"description\": \"\"\n      }\n    },\n    {\n      \"column\": \"BPMeds\",\n      \"properties\": {\n        \"dtype\": \"number\",\n        \"std\": 1111.1577975045543,\n        \"min\": 0.0,\n        \"max\": 3143.0,\n        \"num_unique_values\": 5,\n        \"samples\": [\n          0.02958956411072224,\n          1.0,\n          0.16947908596200822\n        ],\n        \"semantic_type\": \"\",\n        \"description\": \"\"\n      }\n    },\n    {\n      \"column\": \"prevalentStroke\",\n      \"properties\": {\n        \"dtype\": \"number\",\n        \"std\": 1124.2449026359675,\n        \"min\": 0.0,\n        \"max\": 3180.0,\n        \"num_unique_values\": 5,\n        \"samples\": [\n          0.006603773584905661,\n          1.0,\n          0.0810075758978884\n        ],\n        \"semantic_type\": \"\",\n        \"description\": \"\"\n      }\n    },\n    {\n      \"column\": \"prevalentHyp\",\n      \"properties\": {\n        \"dtype\": \"number\",\n        \"std\": 1124.1590422375316,\n        \"min\": 0.0,\n        \"max\": 3180.0,\n        \"num_unique_values\": 5,\n        \"samples\": [\n          0.3210691823899371,\n          1.0,\n          0.46696073970436897\n        ],\n        \"semantic_type\": \"\",\n        \"description\": \"\"\n      }\n    },\n    {\n      \"column\": \"diabetes\",\n      \"properties\": {\n        \"dtype\": \"number\",\n        \"std\": 1124.2399546860445,\n        \"min\": 0.0,\n        \"max\": 3180.0,\n        \"num_unique_values\": 5,\n        \"samples\": [\n          0.02610062893081761,\n          1.0,\n          0.1594596567547744\n        ],\n        \"semantic_type\": \"\",\n        \"description\": \"\"\n      }\n    },\n    {\n      \"column\": \"totChol\",\n      \"properties\": {\n        \"dtype\": \"number\",\n        \"std\": 1038.6935645018195,\n        \"min\": 44.847410643806406,\n        \"max\": 3141.0,\n        \"num_unique_values\": 8,\n        \"samples\": [\n          236.60076408787012,\n          233.0,\n          3141.0\n        ],\n        \"semantic_type\": \"\",\n        \"description\": \"\"\n      }\n    },\n    {\n      \"column\": \"sysBP\",\n      \"properties\": {\n        \"dtype\": \"number\",\n        \"std\": 1080.3731742616874,\n        \"min\": 22.433266948078337,\n        \"max\": 3180.0,\n        \"num_unique_values\": 8,\n        \"samples\": [\n          132.78474842767295,\n          129.0,\n          3180.0\n        ],\n        \"semantic_type\": \"\",\n        \"description\": \"\"\n      }\n    },\n    {\n      \"column\": \"diaBP\",\n      \"properties\": {\n        \"dtype\": \"number\",\n        \"std\": 1097.9136925846137,\n        \"min\": 12.009212492738772,\n        \"max\": 3180.0,\n        \"num_unique_values\": 8,\n        \"samples\": [\n          83.11776729559749,\n          82.0,\n          3180.0\n        ],\n        \"semantic_type\": \"\",\n        \"description\": \"\"\n      }\n    },\n    {\n      \"column\": \"BMI\",\n      \"properties\": {\n        \"dtype\": \"number\",\n        \"std\": 1110.050779605124,\n        \"min\": 4.130474751655827,\n        \"max\": 3165.0,\n        \"num_unique_values\": 8,\n        \"samples\": [\n          25.88811690363349,\n          25.49,\n          3165.0\n        ],\n        \"semantic_type\": \"\",\n        \"description\": \"\"\n      }\n    },\n    {\n      \"column\": \"heartRate\",\n      \"properties\": {\n        \"dtype\": \"number\",\n        \"std\": 1099.7423521938053,\n        \"min\": 12.05050389226952,\n        \"max\": 3180.0,\n        \"num_unique_values\": 8,\n        \"samples\": [\n          75.94213836477988,\n          75.0,\n          3180.0\n        ],\n        \"semantic_type\": \"\",\n        \"description\": \"\"\n      }\n    },\n    {\n      \"column\": \"glucose\",\n      \"properties\": {\n        \"dtype\": \"number\",\n        \"std\": 991.3754044090534,\n        \"min\": 23.625356737313467,\n        \"max\": 2895.0,\n        \"num_unique_values\": 8,\n        \"samples\": [\n          81.83350604490501,\n          78.0,\n          2895.0\n        ],\n        \"semantic_type\": \"\",\n        \"description\": \"\"\n      }\n    },\n    {\n      \"column\": \"TenYearCHD\",\n      \"properties\": {\n        \"dtype\": \"number\",\n        \"std\": 1124.2233999534244,\n        \"min\": 0.0,\n        \"max\": 3180.0,\n        \"num_unique_values\": 5,\n        \"samples\": [\n          0.1531446540880503,\n          1.0,\n          0.3601835161285078\n        ],\n        \"semantic_type\": \"\",\n        \"description\": \"\"\n      }\n    }\n  ]\n}"
            }
          },
          "metadata": {},
          "execution_count": 303
        }
      ],
      "source": [
        "df.describe()"
      ]
    },
    {
      "cell_type": "code",
      "source": [
        "df= df.iloc[:, 1:]\n",
        "sns.boxplot(data=df)\n",
        "plt.xticks(rotation=90) #rotate the x-axis label\n",
        "plt.show()"
      ],
      "metadata": {
        "colab": {
          "base_uri": "https://localhost:8080/",
          "height": 527
        },
        "id": "qjd7P3saD_5n",
        "outputId": "184c4433-1ba7-413a-e1d5-c37043645ad6"
      },
      "execution_count": 304,
      "outputs": [
        {
          "output_type": "display_data",
          "data": {
            "text/plain": [
              "<Figure size 640x480 with 1 Axes>"
            ],
            "image/png": "[encoded data removed]"
          },
          "metadata": {}
        }
      ]
    },
    {
      "cell_type": "code",
      "source": [
        "df = df.dropna()"
      ],
      "metadata": {
        "id": "_MC5cr7pMEeU"
      },
      "execution_count": 305,
      "outputs": []
    },
    {
      "cell_type": "code",
      "source": [
        "df.loc[:, 'age'] = np.arcsinh(df['age'])\n",
        "df.loc[:, 'cigsPerDay'] = np.arcsinh(df['cigsPerDay'])\n",
        "df.loc[:, 'totChol'] = np.arcsinh(df['totChol'])\n",
        "df.loc[:, 'sysBP'] = np.arcsinh(df['sysBP'])\n",
        "df.loc[:, 'diaBP'] = np.arcsinh(df['diaBP'])\n",
        "df.loc[:, 'BMI'] = np.arcsinh(df['BMI'])\n",
        "df.loc[:, 'heartRate'] = np.arcsinh(df['heartRate'])\n",
        "df.loc[:, 'glucose'] = np.arcsinh(df['glucose'])"
      ],
      "metadata": {
        "id": "m3nFUXp2tPEq"
      },
      "execution_count": 306,
      "outputs": []
    },
    {
      "cell_type": "code",
      "source": [
        "sns.boxplot(data=df)\n",
        "plt.xticks(rotation=90) #rotate the x-axis label\n",
        "plt.show()"
      ],
      "metadata": {
        "colab": {
          "base_uri": "https://localhost:8080/",
          "height": 527
        },
        "id": "Sox27xKTtd2z",
        "outputId": "aad3328d-99ff-4624-9ad0-368b6af2076f"
      },
      "execution_count": 307,
      "outputs": [
        {
          "output_type": "display_data",
          "data": {
            "text/plain": [
              "<Figure size 640x480 with 1 Axes>"
            ],
            "image/png": "[encoded data removed]"
          },
          "metadata": {}
        }
      ]
    },
    {
      "cell_type": "code",
      "source": [
        "df_test = pd.read_csv('/content/project_chd/fhs_test.csv')\n",
        "df_test = df_test.dropna()"
      ],
      "metadata": {
        "id": "K5NTDG7eCx2p"
      },
      "execution_count": 308,
      "outputs": []
    },
    {
      "cell_type": "code",
      "source": [
        "# Define the list of columns you want to check for outliers\n",
        "columns_to_check = ['sex', 'age', 'education', 'currentSmoker', 'cigsPerDay', 'BPMeds',\n",
        "                    'prevalentStroke', 'prevalentHyp', 'diabetes', 'totChol', 'sysBP',\n",
        "                    'diaBP', 'BMI', 'heartRate', 'glucose']\n",
        "\n",
        "# Initialize df_filtered with the original dataframe\n",
        "df_filtered = df.copy()\n",
        "\n",
        "# Loop over each column to check for outliers\n",
        "for col in columns_to_check:\n",
        "    Q1 = df_filtered[col].quantile(0.25)\n",
        "    Q3 = df_filtered[col].quantile(0.75)\n",
        "    IQR = Q3 - Q1\n",
        "    lower_bound = Q1 - 1.5 * IQR\n",
        "    upper_bound = Q3 + 1.5 * IQR\n",
        "\n",
        "    # Filter out the outliers\n",
        "    df_filtered = df_filtered[(df_filtered[col] >= lower_bound) & (df_filtered[col] <= upper_bound)]"
      ],
      "metadata": {
        "id": "MLVftZfMnDSL"
      },
      "execution_count": 309,
      "outputs": []
    },
    {
      "cell_type": "code",
      "source": [
        "sns.boxplot(data=df_filtered)\n",
        "plt.xticks(rotation=90) #rotate the x-axis label\n",
        "plt.show()"
      ],
      "metadata": {
        "id": "6su-pf8YxqSe",
        "outputId": "c3e5c438-83b5-4e68-9950-bfdaaf2848b9",
        "colab": {
          "base_uri": "https://localhost:8080/",
          "height": 527
        }
      },
      "execution_count": 310,
      "outputs": [
        {
          "output_type": "display_data",
          "data": {
            "text/plain": [
              "<Figure size 640x480 with 1 Axes>"
            ],
            "image/png": "[encoded data removed]"
          },
          "metadata": {}
        }
      ]
    },
    {
      "cell_type": "code",
      "source": [
        "df_test.loc[:, 'age'] = np.arcsinh(df_test['age'])\n",
        "df_test.loc[:, 'cigsPerDay'] = np.arcsinh(df_test['cigsPerDay'])\n",
        "df_test.loc[:, 'totChol'] = np.arcsinh(df_test['totChol'])\n",
        "df_test.loc[:, 'sysBP'] = np.arcsinh(df_test['sysBP'])\n",
        "df_test.loc[:, 'diaBP'] = np.arcsinh(df_test['diaBP'])\n",
        "df_test.loc[:, 'BMI'] = np.arcsinh(df_test['BMI'])\n",
        "df_test.loc[:, 'heartRate'] = np.arcsinh(df_test['heartRate'])\n",
        "df_test.loc[:, 'glucose'] = np.arcsinh(df_test['glucose'])"
      ],
      "metadata": {
        "id": "ZuIxjL2CxRMJ"
      },
      "execution_count": 311,
      "outputs": []
    },
    {
      "cell_type": "code",
      "source": [
        "from sklearn.model_selection import train_test_split\n",
        "from sklearn import linear_model\n",
        "\n",
        "# Selecting features and target variable for training and testing\n",
        "X_train = df.drop(columns=['TenYearCHD'])  # Features for training\n",
        "y_train = df['TenYearCHD']  # Target variable for training\n",
        "\n",
        "X_test = df_test.drop(columns=['TenYearCHD'])  # Features for testing\n",
        "y_test = df_test['TenYearCHD']  # Target variable for testing\n",
        "\n",
        "# Loop through each feature variable and perform linear regression\n",
        "for column in X_train.columns:\n",
        "    # Extract single feature for training and testing\n",
        "    x_train_feature = X_train[[column]]\n",
        "    x_test_feature = X_test[[column]]\n",
        "\n",
        "    # Initialize and fit the linear regression model\n",
        "    reg = linear_model.LinearRegression().fit(x_train_feature,y_train)\n",
        "\n",
        "    # Make predictions\n",
        "    y_pred = reg.predict(x_test_feature)\n",
        "\n",
        "    # Calculate R-squared\n",
        "    r_sqr = reg.score(x_test_feature, y_test)\n",
        "\n",
        "    # Calculate MSE\n",
        "    mse = np.sqrt( np.mean( (y_test - y_pred)**2 ))\n",
        "\n",
        "    # Print results\n",
        "    print(f\"Variable: {column}\")\n",
        "    print(f\"R-squared: {r_sqr}\")\n",
        "    print(f\"MSE: {mse}\")\n",
        "    print(\"\\n\")"
      ],
      "metadata": {
        "colab": {
          "base_uri": "https://localhost:8080/"
        },
        "id": "l2pGdE5t-Y55",
        "outputId": "ca7f3256-a56a-4a85-f43a-3c3065c768e8"
      },
      "execution_count": 312,
      "outputs": [
        {
          "output_type": "stream",
          "name": "stdout",
          "text": [
            "Variable: sex\n",
            "R-squared: 0.002209348517005716\n",
            "MSE: 0.35222879498250875\n",
            "\n",
            "\n",
            "Variable: age\n",
            "R-squared: 0.0537712700448536\n",
            "MSE: 0.3430071766729245\n",
            "\n",
            "\n",
            "Variable: education\n",
            "R-squared: 0.005143768877070909\n",
            "MSE: 0.3517104756390516\n",
            "\n",
            "\n",
            "Variable: currentSmoker\n",
            "R-squared: 0.00015614707362332503\n",
            "MSE: 0.3525910077434714\n",
            "\n",
            "\n",
            "Variable: cigsPerDay\n",
            "R-squared: 0.002025348019406681\n",
            "MSE: 0.3522612703749383\n",
            "\n",
            "\n",
            "Variable: BPMeds\n",
            "R-squared: 0.003574703920593336\n",
            "MSE: 0.3519877213064948\n",
            "\n",
            "\n",
            "Variable: prevalentStroke\n",
            "R-squared: 0.00298468322208556\n",
            "MSE: 0.3520919184336285\n",
            "\n",
            "\n",
            "Variable: prevalentHyp\n",
            "R-squared: 0.04560862198397231\n",
            "MSE: 0.344483476460585\n",
            "\n",
            "\n",
            "Variable: diabetes\n",
            "R-squared: 0.004021209529988301\n",
            "MSE: 0.35190884830757996\n",
            "\n",
            "\n",
            "Variable: totChol\n",
            "R-squared: -0.0077796159248533225\n",
            "MSE: 0.3539875000558496\n",
            "\n",
            "\n",
            "Variable: sysBP\n",
            "R-squared: 0.05602014356257112\n",
            "MSE: 0.34259932674941823\n",
            "\n",
            "\n",
            "Variable: diaBP\n",
            "R-squared: 0.025288814879284027\n",
            "MSE: 0.34813133584546596\n",
            "\n",
            "\n",
            "Variable: BMI\n",
            "R-squared: 0.009004204467022991\n",
            "MSE: 0.3510274245036425\n",
            "\n",
            "\n",
            "Variable: heartRate\n",
            "R-squared: -0.0004680251828597104\n",
            "MSE: 0.3527010465200549\n",
            "\n",
            "\n",
            "Variable: glucose\n",
            "R-squared: 0.01112097793913791\n",
            "MSE: 0.350652325660948\n",
            "\n",
            "\n"
          ]
        }
      ]
    },
    {
      "cell_type": "markdown",
      "source": [
        "Choose the variable that has greather than 0.01 r-square to make a Multiple Linear Regression."
      ],
      "metadata": {
        "id": "417QopEnDOL2"
      }
    },
    {
      "cell_type": "code",
      "source": [
        "features = ['age', 'prevalentHyp', 'sysBP', 'diaBP', 'glucose']\n",
        "target = 'TenYearCHD'\n",
        "\n",
        "x_train_feature = df[features]\n",
        "x_test_feature = df_test[features]\n",
        "\n",
        "# Initialize and fit the linear regression model\n",
        "reg = linear_model.LinearRegression().fit(x_train_feature,y_train)\n",
        "\n",
        "# Make predictions\n",
        "y_pred = reg.predict(x_test_feature)\n",
        "\n",
        "# Calculate R-squared\n",
        "r_sqr = reg.score(x_test_feature, y_test)\n",
        "\n",
        "# Calculate MSE\n",
        "mse = np.sqrt( np.mean( (y_test - y_pred)**2 ))\n",
        "\n",
        "\n",
        "print(f\"R-squared: {r_sqr}\")\n",
        "print(f\"MSE: {mse}\")"
      ],
      "metadata": {
        "colab": {
          "base_uri": "https://localhost:8080/"
        },
        "id": "cZIKiaEPpnvu",
        "outputId": "f77c6cb2-6876-4f92-8526-49b8bd24da42"
      },
      "execution_count": 313,
      "outputs": [
        {
          "output_type": "stream",
          "name": "stdout",
          "text": [
            "R-squared: 0.08419800875695893\n",
            "MSE: 0.33744728122657136\n"
          ]
        }
      ]
    },
    {
      "cell_type": "code",
      "source": [
        "features = ['sex', 'age', 'education', 'currentSmoker', 'cigsPerDay', 'BPMeds', 'prevalentStroke', 'prevalentHyp', 'diabetes', 'sysBP', 'diaBP', 'BMI', 'glucose']\n",
        "\n",
        "target = 'TenYearCHD'\n",
        "\n",
        "x_train_feature = df[features]\n",
        "x_test_feature = df_test[features]\n",
        "\n",
        "# Initialize and fit the linear regression model\n",
        "reg = linear_model.LinearRegression().fit(x_train_feature,y_train)\n",
        "\n",
        "# Make predictions\n",
        "y_pred = reg.predict(x_test_feature)\n",
        "\n",
        "# Calculate R-squared\n",
        "r_sqr = reg.score(x_test_feature, y_test)\n",
        "\n",
        "# Calculate MSE\n",
        "mse = np.sqrt( np.mean( (y_test - y_pred)**2 ))\n",
        "\n",
        "\n",
        "print(f\"R-squared: {r_sqr}\")\n",
        "print(f\"MSE: {mse}\")"
      ],
      "metadata": {
        "id": "HSobe6ExLM7x",
        "outputId": "ed034dea-b320-49f2-a9ee-d9e930541e5a",
        "colab": {
          "base_uri": "https://localhost:8080/"
        }
      },
      "execution_count": 314,
      "outputs": [
        {
          "output_type": "stream",
          "name": "stdout",
          "text": [
            "R-squared: 0.09565741116758875\n",
            "MSE: 0.3353294013552012\n"
          ]
        }
      ]
    },
    {
      "cell_type": "code",
      "source": [
        "features = [ 'age', 'education', 'cigsPerDay', 'prevalentStroke', 'prevalentHyp',  'sysBP', 'diaBP', 'BMI', 'glucose']\n",
        "\n",
        "target = 'TenYearCHD'\n",
        "\n",
        "x_train_feature = df[features]\n",
        "x_test_feature = df_test[features]\n",
        "\n",
        "# Initialize and fit the linear regression model\n",
        "reg = linear_model.LinearRegression().fit(x_train_feature,y_train)\n",
        "\n",
        "# Make predictions\n",
        "y_pred = reg.predict(x_test_feature)\n",
        "\n",
        "# Calculate R-squared\n",
        "r_sqr = reg.score(x_test_feature, y_test)\n",
        "\n",
        "# Calculate MSE\n",
        "mse = np.sqrt( np.mean( (y_test - y_pred)**2 ))\n",
        "\n",
        "\n",
        "print(f\"R-squared: {r_sqr}\")\n",
        "print(f\"MSE: {mse}\")"
      ],
      "metadata": {
        "id": "xH4F7TncNqyy",
        "outputId": "54d8ff86-906a-47c3-b4e8-c2ecbb81c56d",
        "colab": {
          "base_uri": "https://localhost:8080/"
        }
      },
      "execution_count": 315,
      "outputs": [
        {
          "output_type": "stream",
          "name": "stdout",
          "text": [
            "R-squared: 0.10035976541053326\n",
            "MSE: 0.33445645077806396\n"
          ]
        }
      ]
    },
    {
      "cell_type": "code",
      "source": [
        "features = [ 'age', 'cigsPerDay', 'prevalentHyp','sysBP','glucose','BMI',]\n",
        "\n",
        "target = 'TenYearCHD'\n",
        "\n",
        "x_train_feature = df[features]\n",
        "x_test_feature = df_test[features]\n",
        "\n",
        "# Initialize and fit the linear regression model\n",
        "reg = linear_model.LinearRegression().fit(x_train_feature,y_train)\n",
        "\n",
        "# Make predictions\n",
        "y_pred = reg.predict(x_test_feature)\n",
        "\n",
        "# Calculate R-squared\n",
        "r_sqr = reg.score(x_test_feature, y_test)\n",
        "\n",
        "# Calculate MSE\n",
        "mse = np.sqrt( np.mean( (y_test - y_pred)**2 ))\n",
        "\n",
        "\n",
        "print(f\"R-squared: {r_sqr}\")\n",
        "print(f\"MSE: {mse}\")"
      ],
      "metadata": {
        "id": "XZyQtag-SdgY",
        "outputId": "e0e25743-a9f6-425a-c8e4-1ea77a914c35",
        "colab": {
          "base_uri": "https://localhost:8080/"
        }
      },
      "execution_count": 316,
      "outputs": [
        {
          "output_type": "stream",
          "name": "stdout",
          "text": [
            "R-squared: 0.09821299648175275\n",
            "MSE: 0.3348552618063397\n"
          ]
        }
      ]
    }
  ]
}